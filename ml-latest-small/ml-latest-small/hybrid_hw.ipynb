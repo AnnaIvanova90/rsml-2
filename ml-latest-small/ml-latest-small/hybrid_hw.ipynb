{
 "cells": [
  {
   "cell_type": "code",
   "execution_count": 67,
   "metadata": {},
   "outputs": [],
   "source": [
    "import pandas as pd\n",
    "import numpy as np\n",
    "\n",
    "from sklearn.feature_extraction.text import TfidfVectorizer\n",
    "\n",
    "from surprise import Dataset, Reader,accuracy, SVD\n",
    "from surprise.model_selection import train_test_split"
   ]
  },
  {
   "cell_type": "code",
   "execution_count": 23,
   "metadata": {},
   "outputs": [],
   "source": [
    "ratings = pd.read_csv('ratings.csv')\n",
    "movies = pd.read_csv('movies.csv')\n",
    "tags = pd.read_csv('tags.csv')"
   ]
  },
  {
   "cell_type": "code",
   "execution_count": 257,
   "metadata": {},
   "outputs": [
    {
     "data": {
      "text/html": [
       "<div>\n",
       "<style scoped>\n",
       "    .dataframe tbody tr th:only-of-type {\n",
       "        vertical-align: middle;\n",
       "    }\n",
       "\n",
       "    .dataframe tbody tr th {\n",
       "        vertical-align: top;\n",
       "    }\n",
       "\n",
       "    .dataframe thead th {\n",
       "        text-align: right;\n",
       "    }\n",
       "</style>\n",
       "<table border=\"1\" class=\"dataframe\">\n",
       "  <thead>\n",
       "    <tr style=\"text-align: right;\">\n",
       "      <th></th>\n",
       "      <th>movieId</th>\n",
       "      <th>title</th>\n",
       "      <th>genres</th>\n",
       "      <th>userId</th>\n",
       "      <th>rating</th>\n",
       "      <th>timestamp</th>\n",
       "    </tr>\n",
       "  </thead>\n",
       "  <tbody>\n",
       "    <tr>\n",
       "      <th>0</th>\n",
       "      <td>1</td>\n",
       "      <td>Toy Story (1995)</td>\n",
       "      <td>Adventure|Animation|Children|Comedy|Fantasy</td>\n",
       "      <td>1.0</td>\n",
       "      <td>4.0</td>\n",
       "      <td>9.649827e+08</td>\n",
       "    </tr>\n",
       "    <tr>\n",
       "      <th>1</th>\n",
       "      <td>1</td>\n",
       "      <td>Toy Story (1995)</td>\n",
       "      <td>Adventure|Animation|Children|Comedy|Fantasy</td>\n",
       "      <td>5.0</td>\n",
       "      <td>4.0</td>\n",
       "      <td>8.474350e+08</td>\n",
       "    </tr>\n",
       "    <tr>\n",
       "      <th>2</th>\n",
       "      <td>1</td>\n",
       "      <td>Toy Story (1995)</td>\n",
       "      <td>Adventure|Animation|Children|Comedy|Fantasy</td>\n",
       "      <td>7.0</td>\n",
       "      <td>4.5</td>\n",
       "      <td>1.106636e+09</td>\n",
       "    </tr>\n",
       "    <tr>\n",
       "      <th>3</th>\n",
       "      <td>1</td>\n",
       "      <td>Toy Story (1995)</td>\n",
       "      <td>Adventure|Animation|Children|Comedy|Fantasy</td>\n",
       "      <td>15.0</td>\n",
       "      <td>2.5</td>\n",
       "      <td>1.510578e+09</td>\n",
       "    </tr>\n",
       "    <tr>\n",
       "      <th>4</th>\n",
       "      <td>1</td>\n",
       "      <td>Toy Story (1995)</td>\n",
       "      <td>Adventure|Animation|Children|Comedy|Fantasy</td>\n",
       "      <td>17.0</td>\n",
       "      <td>4.5</td>\n",
       "      <td>1.305696e+09</td>\n",
       "    </tr>\n",
       "  </tbody>\n",
       "</table>\n",
       "</div>"
      ],
      "text/plain": [
       "   movieId             title                                       genres  \\\n",
       "0        1  Toy Story (1995)  Adventure|Animation|Children|Comedy|Fantasy   \n",
       "1        1  Toy Story (1995)  Adventure|Animation|Children|Comedy|Fantasy   \n",
       "2        1  Toy Story (1995)  Adventure|Animation|Children|Comedy|Fantasy   \n",
       "3        1  Toy Story (1995)  Adventure|Animation|Children|Comedy|Fantasy   \n",
       "4        1  Toy Story (1995)  Adventure|Animation|Children|Comedy|Fantasy   \n",
       "\n",
       "   userId  rating     timestamp  \n",
       "0     1.0     4.0  9.649827e+08  \n",
       "1     5.0     4.0  8.474350e+08  \n",
       "2     7.0     4.5  1.106636e+09  \n",
       "3    15.0     2.5  1.510578e+09  \n",
       "4    17.0     4.5  1.305696e+09  "
      ]
     },
     "execution_count": 257,
     "metadata": {},
     "output_type": "execute_result"
    }
   ],
   "source": [
    "mov_rat = movies.join(ratings.set_index('movieId'), on='movieId').reset_index(drop=True)\n",
    "mov_rat.dropna(inplace=True)\n",
    "\n",
    "mov_rat.head()"
   ]
  },
  {
   "cell_type": "code",
   "execution_count": 258,
   "metadata": {},
   "outputs": [
    {
     "data": {
      "text/html": [
       "<div>\n",
       "<style scoped>\n",
       "    .dataframe tbody tr th:only-of-type {\n",
       "        vertical-align: middle;\n",
       "    }\n",
       "\n",
       "    .dataframe tbody tr th {\n",
       "        vertical-align: top;\n",
       "    }\n",
       "\n",
       "    .dataframe thead th {\n",
       "        text-align: right;\n",
       "    }\n",
       "</style>\n",
       "<table border=\"1\" class=\"dataframe\">\n",
       "  <thead>\n",
       "    <tr style=\"text-align: right;\">\n",
       "      <th></th>\n",
       "      <th>movieId</th>\n",
       "      <th>title</th>\n",
       "      <th>genres</th>\n",
       "      <th>userId</th>\n",
       "      <th>rating</th>\n",
       "      <th>timestamp</th>\n",
       "    </tr>\n",
       "  </thead>\n",
       "  <tbody>\n",
       "    <tr>\n",
       "      <th>84016</th>\n",
       "      <td>49286</td>\n",
       "      <td>Holiday, The (2006)</td>\n",
       "      <td>Comedy|Romance</td>\n",
       "      <td>10.0</td>\n",
       "      <td>5.0</td>\n",
       "      <td>1.455358e+09</td>\n",
       "    </tr>\n",
       "    <tr>\n",
       "      <th>99277</th>\n",
       "      <td>140110</td>\n",
       "      <td>The Intern (2015)</td>\n",
       "      <td>Comedy</td>\n",
       "      <td>10.0</td>\n",
       "      <td>5.0</td>\n",
       "      <td>1.455357e+09</td>\n",
       "    </tr>\n",
       "    <tr>\n",
       "      <th>75201</th>\n",
       "      <td>7458</td>\n",
       "      <td>Troy (2004)</td>\n",
       "      <td>Action|Adventure|Drama|War</td>\n",
       "      <td>10.0</td>\n",
       "      <td>5.0</td>\n",
       "      <td>1.455357e+09</td>\n",
       "    </tr>\n",
       "    <tr>\n",
       "      <th>91335</th>\n",
       "      <td>79091</td>\n",
       "      <td>Despicable Me (2010)</td>\n",
       "      <td>Animation|Children|Comedy|Crime</td>\n",
       "      <td>10.0</td>\n",
       "      <td>5.0</td>\n",
       "      <td>1.455306e+09</td>\n",
       "    </tr>\n",
       "    <tr>\n",
       "      <th>77158</th>\n",
       "      <td>8869</td>\n",
       "      <td>First Daughter (2004)</td>\n",
       "      <td>Comedy|Romance</td>\n",
       "      <td>10.0</td>\n",
       "      <td>5.0</td>\n",
       "      <td>1.455303e+09</td>\n",
       "    </tr>\n",
       "  </tbody>\n",
       "</table>\n",
       "</div>"
      ],
      "text/plain": [
       "       movieId                  title                           genres  \\\n",
       "84016    49286    Holiday, The (2006)                   Comedy|Romance   \n",
       "99277   140110      The Intern (2015)                           Comedy   \n",
       "75201     7458            Troy (2004)       Action|Adventure|Drama|War   \n",
       "91335    79091   Despicable Me (2010)  Animation|Children|Comedy|Crime   \n",
       "77158     8869  First Daughter (2004)                   Comedy|Romance   \n",
       "\n",
       "       userId  rating     timestamp  \n",
       "84016    10.0     5.0  1.455358e+09  \n",
       "99277    10.0     5.0  1.455357e+09  \n",
       "75201    10.0     5.0  1.455357e+09  \n",
       "91335    10.0     5.0  1.455306e+09  \n",
       "77158    10.0     5.0  1.455303e+09  "
      ]
     },
     "execution_count": 258,
     "metadata": {},
     "output_type": "execute_result"
    }
   ],
   "source": [
    "#выбираем произвольного пользователя и определяем последний просмотренный им фильм с максимальной оценкой.\n",
    "user = 10\n",
    "user_data = mov_rat.loc[mov_rat['userId'] == user]\n",
    "user_data = user_data.sort_values(by=['rating', 'timestamp'], ascending = False)\n",
    "user_data.head()"
   ]
  },
  {
   "cell_type": "code",
   "execution_count": 205,
   "metadata": {},
   "outputs": [],
   "source": [
    "user_data['genres'] = user_data['genres'].str.replace('Sci-Fi','SciFi')\n",
    "user_data['genres'] = user_data['genres'].str.replace('Film-Noir','Noir')\n",
    "user_data['genres'] = user_data['genres'].apply(lambda x: x.replace('|', ' ')).str.lower()"
   ]
  },
  {
   "cell_type": "code",
   "execution_count": 207,
   "metadata": {},
   "outputs": [],
   "source": [
    "#дальше найдем 50 максимально похожих фильмов, используя жанры и модель поиска ближайшего соседа"
   ]
  },
  {
   "cell_type": "code",
   "execution_count": 274,
   "metadata": {},
   "outputs": [],
   "source": [
    "tfidf_vec = TfidfVectorizer()\n",
    "X_tfidf = tfidf_vec.fit_transform(movies['genres'])\n",
    "\n",
    "from sklearn.neighbors import NearestNeighbors\n",
    "neigh = NearestNeighbors(n_neighbors = 50)\n",
    "neigh.fit(X_tfidf)\n",
    "\n",
    "X1_tfidf = tfidf_vec.transform([user_data.iloc[0]['genres']])\n"
   ]
  },
  {
   "cell_type": "code",
   "execution_count": 269,
   "metadata": {},
   "outputs": [
    {
     "data": {
      "text/plain": [
       "50"
      ]
     },
     "execution_count": 269,
     "metadata": {},
     "output_type": "execute_result"
    }
   ],
   "source": [
    "# соберем список похожих фильмов\n",
    "res = neigh.kneighbors(X1_tfidf, return_distance=False)\n",
    "\n",
    "movie_for_rec =[]\n",
    "\n",
    "for i in res[0]:\n",
    "    film = movies.iloc[i]\n",
    "    movie_for_rec.append(film.title)"
   ]
  },
  {
   "cell_type": "code",
   "execution_count": 217,
   "metadata": {},
   "outputs": [],
   "source": [
    "from lightfm import LightFM\n",
    "from lightfm.datasets import fetch_movielens\n",
    "movielens = fetch_movielens()"
   ]
  },
  {
   "cell_type": "code",
   "execution_count": 272,
   "metadata": {},
   "outputs": [],
   "source": [
    "# используя light fm найдем рекомендации по всем фильмам для конкретного пользователя\n",
    "model = LightFM(learning_rate=0.05, loss='warp')\n",
    "model.fit(movielens['train'], epochs=10)\n",
    "\n",
    "n_users, n_items = movielens['train'].shape\n",
    "scores = model.predict(user, np.arange(n_items))\n",
    "top_items = movielens['item_labels'][np.argsort(-scores)]\n",
    "top_items = top_items[:500]\n"
   ]
  },
  {
   "cell_type": "code",
   "execution_count": 271,
   "metadata": {},
   "outputs": [
    {
     "name": "stdout",
     "output_type": "stream",
     "text": [
      "My Best Friend's Wedding (1997)\n",
      "Dave (1993)\n"
     ]
    }
   ],
   "source": [
    "#Окончательную рекомендацию формируем на пересечении двух полученных списков - ближайших соседей по жанру и общие рекомендации по скрытым факторам\n",
    "\n",
    "for film in movie_for_rec:\n",
    "    if film in top_items: print(film)"
   ]
  },
  {
   "cell_type": "code",
   "execution_count": null,
   "metadata": {},
   "outputs": [],
   "source": []
  }
 ],
 "metadata": {
  "kernelspec": {
   "display_name": "Python 3",
   "language": "python",
   "name": "python3"
  },
  "language_info": {
   "codemirror_mode": {
    "name": "ipython",
    "version": 3
   },
   "file_extension": ".py",
   "mimetype": "text/x-python",
   "name": "python",
   "nbconvert_exporter": "python",
   "pygments_lexer": "ipython3",
   "version": "3.8.3"
  }
 },
 "nbformat": 4,
 "nbformat_minor": 4
}
